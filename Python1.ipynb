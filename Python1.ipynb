{
  "nbformat": 4,
  "nbformat_minor": 0,
  "metadata": {
    "colab": {
      "provenance": [],
      "include_colab_link": true
    },
    "kernelspec": {
      "name": "python3",
      "display_name": "Python 3"
    }
  },
  "cells": [
    {
      "cell_type": "markdown",
      "metadata": {
        "id": "view-in-github",
        "colab_type": "text"
      },
      "source": [
        "<a href=\"https://colab.research.google.com/github/YSHS-APCSP-2022/python-1-KimC-1217/blob/main/Python1.ipynb\" target=\"_parent\"><img src=\"https://colab.research.google.com/assets/colab-badge.svg\" alt=\"Open In Colab\"/></a>"
      ]
    },
    {
      "cell_type": "markdown",
      "metadata": {
        "id": "tcGfUOOuvqdx"
      },
      "source": [
        "### Task 1 - Basic Math"
      ]
    },
    {
      "cell_type": "markdown",
      "metadata": {
        "id": "VKryyOuzvvZe"
      },
      "source": [
        "Python is a programming language that allows the devleopment of many desktop, web, scientific, and mathematical applications (apps). We will start exploring Python by doing some basic math. "
      ]
    },
    {
      "cell_type": "markdown",
      "metadata": {
        "id": "DZcbIj2HwMip"
      },
      "source": [
        "1. Type in 3 + 5 into a new iPython code cell. Then click the \"play\" icon button on the left of the cell (or control+Enter) to run the code. What is the output? "
      ]
    },
    {
      "cell_type": "code",
      "metadata": {
        "id": "lPwBlljTQPUv",
        "outputId": "245f3dae-02d5-43d7-9b43-bca5c36abdd1",
        "colab": {
          "base_uri": "https://localhost:8080/"
        }
      },
      "source": [
        "3+5"
      ],
      "execution_count": 1,
      "outputs": [
        {
          "output_type": "execute_result",
          "data": {
            "text/plain": [
              "8"
            ]
          },
          "metadata": {},
          "execution_count": 1
        }
      ]
    },
    {
      "cell_type": "markdown",
      "metadata": {
        "id": "qVr5Nry_w8gv"
      },
      "source": [
        "2. Type in \n",
        "\n",
        "```\n",
        "2**3\n",
        "```\n",
        "  into a new iPython code cell. Then click the \"play\" icon button on the left \n",
        "  of the cell (or control+Enter) to run the code. What is the output? What \n",
        "  mathematical operation does the double asterisk signify?"
      ]
    },
    {
      "cell_type": "code",
      "metadata": {
        "id": "-42ip9usQQYL",
        "outputId": "e21c9127-6a59-4a0a-89fa-be0db5e54ee7",
        "colab": {
          "base_uri": "https://localhost:8080/"
        }
      },
      "source": [
        "2**3"
      ],
      "execution_count": 2,
      "outputs": [
        {
          "output_type": "execute_result",
          "data": {
            "text/plain": [
              "8"
            ]
          },
          "metadata": {},
          "execution_count": 2
        }
      ]
    },
    {
      "cell_type": "markdown",
      "metadata": {
        "id": "jRrhQuZaxCJ4"
      },
      "source": [
        "3. Type in \n",
        "```\n",
        "5*4\n",
        "```\n",
        "into a new iPython code cell. Then click the \"play\" icon button on the left of the cell (or control+Enter) to run the code. What is the output? What mathematical operation does the single asterisk represent? "
      ]
    },
    {
      "cell_type": "code",
      "metadata": {
        "id": "HVIHjJsDQStQ",
        "outputId": "7f028267-525c-4259-f10d-8c2f5d6b38fd",
        "colab": {
          "base_uri": "https://localhost:8080/"
        }
      },
      "source": [
        "5*4"
      ],
      "execution_count": 3,
      "outputs": [
        {
          "output_type": "execute_result",
          "data": {
            "text/plain": [
              "20"
            ]
          },
          "metadata": {},
          "execution_count": 3
        }
      ]
    },
    {
      "cell_type": "markdown",
      "metadata": {
        "id": "7C-ejuYzxLJj"
      },
      "source": [
        "4. Type in print(10/3) into a new iPython code cell. Then type in print(10/3.0) into another iPython code cell. What is the difference in the outputs? Why might this difference be important?"
      ]
    },
    {
      "cell_type": "code",
      "metadata": {
        "id": "tGI6n4vNQWqs",
        "outputId": "02abdf82-f5dd-4f9a-aaf6-115ad4f1b69d",
        "colab": {
          "base_uri": "https://localhost:8080/"
        }
      },
      "source": [
        "10/3"
      ],
      "execution_count": 5,
      "outputs": [
        {
          "output_type": "execute_result",
          "data": {
            "text/plain": [
              "3.3333333333333335"
            ]
          },
          "metadata": {},
          "execution_count": 5
        }
      ]
    },
    {
      "cell_type": "code",
      "metadata": {
        "id": "l4ZgvscIQXA5",
        "outputId": "819bc625-2a60-4f03-8317-2e641dda40ea",
        "colab": {
          "base_uri": "https://localhost:8080/"
        }
      },
      "source": [
        "10/3.0"
      ],
      "execution_count": 4,
      "outputs": [
        {
          "output_type": "execute_result",
          "data": {
            "text/plain": [
              "3.3333333333333335"
            ]
          },
          "metadata": {},
          "execution_count": 4
        }
      ]
    },
    {
      "cell_type": "markdown",
      "metadata": {
        "id": "_b-pxjL3QXpf"
      },
      "source": []
    },
    {
      "cell_type": "markdown",
      "metadata": {
        "id": "s1foBABIxaT3"
      },
      "source": [
        "### Task 2 - Conditional Statements"
      ]
    },
    {
      "cell_type": "markdown",
      "metadata": {
        "id": "9AWiM7bIxg3I"
      },
      "source": [
        "Conditional statements are if...then statements that allow evaluation (true/false) of a statement. These conditional statements can be very powerful, as they allow you to dictate an or action in response to the conditions present.\n",
        "\n",
        "For instance :\n",
        "\n",
        "\n",
        "\n",
        "```\n",
        "n = 3\n",
        "if n > 0:\n",
        "print \"wow\"\n",
        "\n",
        "```\n",
        "\n",
        "This conditional statement print \"wow\" to the console when the condition of n*2 > 1 is met. Play around with the code below to change the readout\n"
      ]
    },
    {
      "cell_type": "code",
      "metadata": {
        "id": "-PVw5KUuySmw",
        "colab": {
          "base_uri": "https://localhost:8080/"
        },
        "outputId": "610b6f5f-5e09-4b8d-fda5-baf17c9c7f80"
      },
      "source": [
        "n = 3\n",
        "\n",
        "if n*2 > 1:\n",
        "  print(\"wow\")"
      ],
      "execution_count": 6,
      "outputs": [
        {
          "output_type": "stream",
          "name": "stdout",
          "text": [
            "wow\n"
          ]
        }
      ]
    },
    {
      "cell_type": "markdown",
      "metadata": {
        "id": "pW8_oQiyywHY"
      },
      "source": [
        "Let's say that you want to have something print out even if the number is less than zero. We can add an else statement to the condition to facilitate this : "
      ]
    },
    {
      "cell_type": "code",
      "metadata": {
        "id": "RxTokniZzFw-",
        "colab": {
          "base_uri": "https://localhost:8080/"
        },
        "outputId": "4328810f-7c1f-490d-c9f1-e03943354d4f"
      },
      "source": [
        "n = -1\n",
        "\n",
        "if n*2 > 1:\n",
        "  print(\"wow\")\n",
        "else:\n",
        "\n",
        "  print(\"umm...no\")"
      ],
      "execution_count": 9,
      "outputs": [
        {
          "output_type": "stream",
          "name": "stdout",
          "text": [
            "umm...no\n"
          ]
        }
      ]
    },
    {
      "cell_type": "markdown",
      "metadata": {
        "id": "vDGCuD09yyJ4"
      },
      "source": [
        "### Challenges\n",
        "1. Create a conditional statement that evaluates whether someone is old enough to vote. Make sure you have some readouts along with an if...else conditional statement.\n",
        "\n",
        "2. Write a conditional statement evaluating whether two variables (x and y) are both greater than zero. Have a printout statement for a true and a false evaluation.\n",
        "\n",
        "3. Create a conditional statement of your choice. Must include if...else statement, print statement, and a mathematical operation. "
      ]
    }
  ]
}